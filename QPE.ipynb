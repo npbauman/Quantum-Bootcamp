{
 "cells": [
  {
   "cell_type": "markdown",
   "id": "c26eb2a5",
   "metadata": {},
   "source": [
    "You will need to use the QDK conda environment. If you do not have the environment, execute the following cell to create a file called environment.yml that can be used to create the QDK conda environment."
   ]
  },
  {
   "cell_type": "code",
   "execution_count": 1,
   "id": "cd214abb",
   "metadata": {},
   "outputs": [
    {
     "name": "stdout",
     "output_type": "stream",
     "text": [
      "Overwriting environment.yml\n"
     ]
    }
   ],
   "source": [
    "%%writefile environment.yml\n",
    "name: qdk\n",
    "channels:\n",
    "  - conda-forge\n",
    "  - microsoft\n",
    "dependencies:\n",
    "  - python=3.9\n",
    "  - qsharp\n",
    "  - networkx\n",
    "  - rdkit\n",
    "  - pip\n",
    "  - jupyter\n",
    "  - pytest\n",
    "  - ipywidgets\n",
    "  - ruamel.yaml\n",
    "  - varname\n",
    "  - pip:\n",
    "    - basis_set_exchange\n",
    "    - jupyter_jsmol"
   ]
  },
  {
   "cell_type": "code",
   "execution_count": 2,
   "id": "be2e4396",
   "metadata": {},
   "outputs": [],
   "source": [
    "import numpy as np\n",
    "\n",
    "\n",
    "PauliI  = np.array([[ 1, 0],\n",
    "               [ 0, 1]])\n",
    "PauliX = np.array([[ 0, 1],\n",
    "               [ 1, 0]])\n",
    "PauliY = np.array([[ 0,-1j],\n",
    "               [1j, 0]])\n",
    "PauliZ = np.array([[ 1, 0],\n",
    "               [ 0,-1]])\n",
    "\n",
    "from functools import reduce"
   ]
  },
  {
   "cell_type": "markdown",
   "id": "a300a2c1",
   "metadata": {},
   "source": [
    "This is where you set the input/yaml file name. Uncomment the last line to see the encoded data if you wish."
   ]
  },
  {
   "cell_type": "code",
   "execution_count": 3,
   "id": "f55fa8fe",
   "metadata": {},
   "outputs": [
    {
     "name": "stdout",
     "output_type": "stream",
     "text": [
      "Preparing Q# environment...\n"
     ]
    },
    {
     "data": {
      "application/x-qsharp-data": "{\"LastUpdated\":\"2022-08-05T10:30:51.4502586-07:00\",\"IsCompleted\":false,\"Description\":\"Adding package microsoft.quantum.chemistry.jupyter\",\"Subtask\":null}",
      "text/plain": [
       "Adding package microsoft.quantum.chemistry.jupyter."
      ]
     },
     "metadata": {},
     "output_type": "display_data"
    }
   ],
   "source": [
    "from qdk.chemistry.broombridge import load_and_encode\n",
    "encoded_data = load_and_encode(\"LiH.yaml\")\n",
    "# encoded_data"
   ]
  },
  {
   "cell_type": "markdown",
   "id": "cf707526",
   "metadata": {},
   "source": [
    "Write the file for the QPE calculation."
   ]
  },
  {
   "cell_type": "code",
   "execution_count": 4,
   "id": "1155a7b9",
   "metadata": {},
   "outputs": [
    {
     "name": "stdout",
     "output_type": "stream",
     "text": [
      "Overwriting RPE.qs\n"
     ]
    }
   ],
   "source": [
    "%%writefile RPE.qs\n",
    "namespace Microsoft.Quantum.Chemistry.RPE {\n",
    "    open Microsoft.Quantum.Core;\n",
    "    open Microsoft.Quantum.Intrinsic;\n",
    "    open Microsoft.Quantum.Canon;\n",
    "    open Microsoft.Quantum.Chemistry;\n",
    "    open Microsoft.Quantum.Chemistry.JordanWigner;  \n",
    "    open Microsoft.Quantum.Simulation;\n",
    "    open Microsoft.Quantum.Characterization;\n",
    "    open Microsoft.Quantum.Convert;\n",
    "    open Microsoft.Quantum.Math;\n",
    "\n",
    "    operation GetEnergyRPE (\n",
    "        JWEncodedData: JordanWignerEncodingData,\n",
    "        nBitsPrecision : Int, \n",
    "        trotterStepSize : Double, \n",
    "        trotterOrder : Int\n",
    "    ) : (Double, Double) {\n",
    "\n",
    "        Message($\"JWEncodedData:\\n{JWEncodedData}\");\n",
    "        let (nSpinOrbitals, fermionTermData, inputState, energyOffset) = JWEncodedData!;\n",
    "        Message($\"inputState:\\n{inputState}\");\n",
    "        let statePrep = PrepareTrialState(inputState, _);\n",
    "        Message($\"statePrep:\\n{statePrep}\");\n",
    "        let (nQubits, (rescaleFactor, oracle)) = TrotterStepOracle(JWEncodedData, trotterStepSize, trotterOrder);\n",
    "        Message($\"nQubits: {nQubits}, rescaleFactor: {rescaleFactor}, oracle: {oracle}\");\n",
    "        let phaseEstAlgorithm = RobustPhaseEstimation(nBitsPrecision, _, _);\n",
    "        Message($\"phaseEstAlgorithm:\\n{phaseEstAlgorithm}\");\n",
    "        let estPhase = EstimateEnergy(nQubits, statePrep, oracle, phaseEstAlgorithm);\n",
    "        let estEnergy = estPhase * rescaleFactor + energyOffset;\n",
    "        Message($\"estPhase: {estPhase}, rescaleFactor: {rescaleFactor}, energyOffset: {energyOffset}\");\n",
    "\n",
    "        return (estPhase, estEnergy);\n",
    "    }\n",
    "}"
   ]
  },
  {
   "cell_type": "code",
   "execution_count": 5,
   "id": "8e298150",
   "metadata": {},
   "outputs": [
    {
     "data": {
      "application/x-qsharp-data": "{\"LastUpdated\":\"2022-08-05T10:30:55.3213415-07:00\",\"IsCompleted\":false,\"Description\":\"Reloading workspace\",\"Subtask\":null}",
      "text/plain": [
       "Reloading workspace."
      ]
     },
     "metadata": {},
     "output_type": "display_data"
    }
   ],
   "source": [
    "import qsharp\n",
    "qsharp.reload()\n",
    "from Microsoft.Quantum.Chemistry.RPE import GetEnergyRPE"
   ]
  },
  {
   "cell_type": "code",
   "execution_count": 6,
   "id": "6b5d5eff",
   "metadata": {
    "scrolled": true
   },
   "outputs": [
    {
     "name": "stdout",
     "output_type": "stream",
     "text": [
      "Finished Iteration  5\n",
      "[-0.378210093917449, -0.378210093917449, -0.39269908169872414, -0.36815538909255385, -0.3581006842676588]\n",
      "[-7.917968082325052, -7.917968082325052, -8.062857960137803, -7.817421034076101, -7.716873985827149]\n"
     ]
    },
    {
     "data": {
      "image/png": "[encoded data removed]",
      "text/plain": [
       "<Figure size 432x288 with 1 Axes>"
      ]
     },
     "metadata": {
      "needs_background": "light"
     },
     "output_type": "display_data"
    },
    {
     "name": "stdout",
     "output_type": "stream",
     "text": [
      "CPU times: user 2.2 s, sys: 509 ms, total: 2.71 s\n",
      "Wall time: 4min 4s\n"
     ]
    }
   ],
   "source": [
    "%%time\n",
    "import matplotlib.pyplot as plt\n",
    "from IPython.display import clear_output\n",
    "Energies = []\n",
    "Phases = []\n",
    "\n",
    "nsamples = 5\n",
    "for i in range(nsamples):\n",
    "    Data = GetEnergyRPE.simulate(JWEncodedData=encoded_data, \n",
    "                                          nBitsPrecision=6, #11 gives a std. dev ~ 4mH\n",
    "                                          trotterStepSize=0.1,\n",
    "                                          trotterOrder=1)\n",
    "    \n",
    "    Energies.append(Data[1])\n",
    "    Phases.append(Data[0])\n",
    "    clear_output(wait=True)\n",
    "    print(\"Finished Iteration \",i+1)\n",
    "    print(Phases)\n",
    "    print(Energies)\n",
    "    plt.scatter(range(len(Energies)),Energies)\n",
    "    plt.show()"
   ]
  },
  {
   "cell_type": "markdown",
   "id": "b2122502",
   "metadata": {},
   "source": [
    "Std. Dev. goes as 1/2^{bits of precision} but time goes as 2^{bits of precision}"
   ]
  },
  {
   "cell_type": "code",
   "execution_count": null,
   "id": "a5c3f94b",
   "metadata": {},
   "outputs": [],
   "source": []
  }
 ],
 "metadata": {
  "kernelspec": {
   "display_name": "Python 3 (ipykernel)",
   "language": "python",
   "name": "python3"
  },
  "language_info": {
   "codemirror_mode": {
    "name": "ipython",
    "version": 3
   },
   "file_extension": ".py",
   "mimetype": "text/x-python",
   "name": "python",
   "nbconvert_exporter": "python",
   "pygments_lexer": "ipython3",
   "version": "3.9.10"
  }
 },
 "nbformat": 4,
 "nbformat_minor": 5
}
